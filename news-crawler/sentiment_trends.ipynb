{
 "cells": [
  {
   "cell_type": "code",
   "execution_count": null,
   "metadata": {},
   "outputs": [],
   "source": [
    "## Sentiment Trends"
   ]
  },
  {
   "cell_type": "code",
   "execution_count": 1,
   "metadata": {},
   "outputs": [
    {
     "name": "stderr",
     "output_type": "stream",
     "text": [
      "Matplotlib is building the font cache; this may take a moment.\n"
     ]
    }
   ],
   "source": [
    "import json\n",
    "import requests\n",
    "import pandas as pd\n",
    "import matplotlib.pyplot as plt\n",
    "\n",
    "from config import * "
   ]
  },
  {
   "cell_type": "code",
   "execution_count": 2,
   "metadata": {},
   "outputs": [],
   "source": [
    "query = {\n",
    "    \"size\": 0,\n",
    "    \"aggs\": {\n",
    "        \"group_by_date\": {\n",
    "        \"date_histogram\": {\n",
    "            \"field\": \"created_at\",\n",
    "            \"interval\": \"day\"\n",
    "        },\n",
    "        \"aggs\": {\n",
    "            \"group_by_sentiment\": {\n",
    "            \"terms\": {\n",
    "                \"field\": \"sentiment.keyword\"\n",
    "            }\n",
    "            }\n",
    "        }\n",
    "        }\n",
    "    }\n",
    "}"
   ]
  },
  {
   "cell_type": "code",
   "execution_count": 3,
   "metadata": {},
   "outputs": [],
   "source": [
    "query = json.dumps(query)"
   ]
  },
  {
   "cell_type": "code",
   "execution_count": 4,
   "metadata": {},
   "outputs": [],
   "source": [
    "resp = requests.get(\n",
    "    f\"{OPENSEARCH_URL}/news/_search\",\n",
    "    headers = OPENSEARCH_HEADERS,\n",
    "    data = query,\n",
    "    auth = OPENSEARCH_AUTH\n",
    ")"
   ]
  },
  {
   "cell_type": "code",
   "execution_count": 8,
   "metadata": {},
   "outputs": [],
   "source": [
    "results = resp.json()"
   ]
  },
  {
   "cell_type": "code",
   "execution_count": 9,
   "metadata": {},
   "outputs": [],
   "source": [
    "buckets = results['aggregations']['group_by_date']['buckets']"
   ]
  },
  {
   "cell_type": "code",
   "execution_count": null,
   "metadata": {},
   "outputs": [],
   "source": [
    "buckets"
   ]
  },
  {
   "cell_type": "code",
   "execution_count": 11,
   "metadata": {},
   "outputs": [],
   "source": [
    "buffer = []\n",
    "\n",
    "for x in buckets:\n",
    "    sents = x['group_by_sentiment']['buckets']\n",
    "\n",
    "    # entry = {}\n",
    "    # for t in sents:\n",
    "    #     key = t['key']\n",
    "    #     value = t['doc_count']\n",
    "    #     entry[key] = value\n",
    "\n",
    "    entry = { t['key']: t['doc_count'] for t in sents}\n",
    "    entry['date'] = x['key_as_string']\n",
    "\n",
    "    buffer.append(entry)"
   ]
  },
  {
   "cell_type": "code",
   "execution_count": null,
   "metadata": {},
   "outputs": [
    {
     "data": {
      "text/plain": [
       "{'neutral': 406,\n",
       " 'positive': 77,\n",
       " 'negative': 26,\n",
       " 'date': '2024-09-01T00:00:00.000Z'}"
      ]
     },
     "execution_count": 12,
     "metadata": {},
     "output_type": "execute_result"
    }
   ],
   "source": [
    "buffer[0]"
   ]
  }
 ],
 "metadata": {
  "kernelspec": {
   "display_name": "base",
   "language": "python",
   "name": "python3"
  },
  "language_info": {
   "codemirror_mode": {
    "name": "ipython",
    "version": 3
   },
   "file_extension": ".py",
   "mimetype": "text/x-python",
   "name": "python",
   "nbconvert_exporter": "python",
   "pygments_lexer": "ipython3",
   "version": "3.12.7"
  }
 },
 "nbformat": 4,
 "nbformat_minor": 2
}
